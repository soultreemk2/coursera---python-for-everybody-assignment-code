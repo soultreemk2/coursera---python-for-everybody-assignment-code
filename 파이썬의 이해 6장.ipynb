{
 "cells": [
  {
   "cell_type": "code",
   "execution_count": null,
   "metadata": {},
   "outputs": [],
   "source": [
    "# =============================================================================\n",
    "# ============================== 6. 넘파이(numpy) =============================\n",
    "# ============================================================================="
   ]
  },
  {
   "cell_type": "markdown",
   "metadata": {},
   "source": [
    "list, tuple, dictionary 다 numpy를 통해서만 manipulation이 가능하다 \n",
    "pandas 또한 numpy를 back-end  즉 numpy위에 쌓아올린 패키지이다. \n",
    "\n",
    "class는 child 클래스와 parent 클래스가 있다.\n",
    "class 안의 함수는 method라고 부른다. "
   ]
  },
  {
   "cell_type": "code",
   "execution_count": 2,
   "metadata": {},
   "outputs": [
    {
     "data": {
      "text/plain": [
       "array([1, 5, 7, 6])"
      ]
     },
     "execution_count": 2,
     "metadata": {},
     "output_type": "execute_result"
    }
   ],
   "source": [
    "# numpy 불러와서 사용해보기\n",
    "import numpy as np\n",
    "np.array([1, 5, 7, 6])"
   ]
  },
  {
   "cell_type": "markdown",
   "metadata": {},
   "source": [
    "np.array(list) 하면 1 dimensional tensor 데이터가 된거임\n",
    "데이터 타입은 한 데이터 안에서 같아야 합니다 \n",
    "밑에는 실수랑 정수가 섞여있어 run하면 자동 실수화 됩니다. "
   ]
  },
  {
   "cell_type": "code",
   "execution_count": 3,
   "metadata": {},
   "outputs": [
    {
     "data": {
      "text/plain": [
       "array([1.25, 1.  , 5.  , 7.  ])"
      ]
     },
     "execution_count": 3,
     "metadata": {},
     "output_type": "execute_result"
    }
   ],
   "source": [
    "np.array([1.25, 1, 5, 7])  # 실수와 정수가 섞여있으면 정수가 모두 실수화됨"
   ]
  },
  {
   "cell_type": "code",
   "execution_count": 5,
   "metadata": {},
   "outputs": [
    {
     "data": {
      "text/plain": [
       "array([0, 0, 0, 0, 0])"
      ]
     },
     "execution_count": 5,
     "metadata": {},
     "output_type": "execute_result"
    }
   ],
   "source": [
    "# numpy의 유용한 함수(방법)들\n",
    "np.zeros(5, dtype=int)"
   ]
  },
  {
   "cell_type": "code",
   "execution_count": 4,
   "metadata": {},
   "outputs": [
    {
     "data": {
      "text/plain": [
       "array([[1., 1., 1.],\n",
       "       [1., 1., 1.]])"
      ]
     },
     "execution_count": 4,
     "metadata": {},
     "output_type": "execute_result"
    }
   ],
   "source": [
    "np.ones([2,3], dtype=float)"
   ]
  },
  {
   "cell_type": "code",
   "execution_count": 3,
   "metadata": {},
   "outputs": [
    {
     "data": {
      "text/plain": [
       "array([0, 2, 4, 6, 8])"
      ]
     },
     "execution_count": 3,
     "metadata": {},
     "output_type": "execute_result"
    }
   ],
   "source": [
    "np.arange(0, 10, 2)   # 0 포함 O, 10 포함 X  # 0~9까지를 2씩 증가시켜"
   ]
  },
  {
   "cell_type": "code",
   "execution_count": 5,
   "metadata": {},
   "outputs": [
    {
     "data": {
      "text/plain": [
       "array([ 0. ,  2.5,  5. ,  7.5, 10. ])"
      ]
     },
     "execution_count": 5,
     "metadata": {},
     "output_type": "execute_result"
    }
   ],
   "source": [
    "np.linspace(0, 10, 5)  # 0 포함 O, 10 포함 O  # 0~1사이를 \"5개\"로 나누어서 증가시킴"
   ]
  },
  {
   "cell_type": "code",
   "execution_count": 7,
   "metadata": {},
   "outputs": [],
   "source": [
    "np.random.seed(12)"
   ]
  },
  {
   "cell_type": "code",
   "execution_count": 8,
   "metadata": {},
   "outputs": [
    {
     "data": {
      "text/plain": [
       "array([[0.15416284, 0.7400497 , 0.26331502],\n",
       "       [0.53373939, 0.01457496, 0.91874701],\n",
       "       [0.90071485, 0.03342143, 0.95694934]])"
      ]
     },
     "execution_count": 8,
     "metadata": {},
     "output_type": "execute_result"
    }
   ],
   "source": [
    "np.random.random((3,3))        # 3 by 3 U(0,1) 생성"
   ]
  },
  {
   "cell_type": "code",
   "execution_count": 9,
   "metadata": {},
   "outputs": [
    {
     "data": {
      "text/plain": [
       "array([[-0.42069204, -0.7060276 ,  0.58535808],\n",
       "       [ 0.13978644,  2.73781428,  1.11674795],\n",
       "       [ 1.57453814, -0.08586679,  0.47673663]])"
      ]
     },
     "execution_count": 9,
     "metadata": {},
     "output_type": "execute_result"
    }
   ],
   "source": [
    "np.random.normal(0, 1, (3,3))  # 3 by 3 N(0,1) 생성"
   ]
  },
  {
   "cell_type": "code",
   "execution_count": 10,
   "metadata": {},
   "outputs": [
    {
     "data": {
      "text/plain": [
       "array([[-5.11386737, -2.49470943, -6.05416763],\n",
       "       [-2.40186255, 21.27298707, -4.81080115],\n",
       "       [ 9.73134844, 10.10565281, 11.47645612]])"
      ]
     },
     "execution_count": 10,
     "metadata": {},
     "output_type": "execute_result"
    }
   ],
   "source": [
    "np.random.normal(1, 10, (3,3))  # 3 by 3 N(1,10) 생성"
   ]
  },
  {
   "cell_type": "code",
   "execution_count": 18,
   "metadata": {},
   "outputs": [
    {
     "data": {
      "text/plain": [
       "array([[6, 5, 9],\n",
       "       [2, 4, 0],\n",
       "       [8, 4, 4]])"
      ]
     },
     "execution_count": 18,
     "metadata": {},
     "output_type": "execute_result"
    }
   ],
   "source": [
    "np.random.randint(0, 10, (3,3)) # 3 by 3 정수(0-9) 생성"
   ]
  },
  {
   "cell_type": "code",
   "execution_count": 15,
   "metadata": {},
   "outputs": [
    {
     "data": {
      "text/plain": [
       "array([[-0.6075477 , -0.12613641, -0.68460636],\n",
       "       [ 0.92871475, -1.84440103, -0.46700242],\n",
       "       [ 2.29249034,  0.48881005,  0.71026699]])"
      ]
     },
     "execution_count": 15,
     "metadata": {},
     "output_type": "execute_result"
    }
   ],
   "source": [
    "rg = np.random.RandomState(40)  # np.random.RandomState 클래스를 rg로 객체화\n",
    "rg.normal(0, 1, (3,3))"
   ]
  },
  {
   "cell_type": "code",
   "execution_count": null,
   "metadata": {},
   "outputs": [],
   "source": [
    "## 추가설명 \n",
    "numpy.random.RandomState(123) \n",
    "\n",
    ":  numpy.random.RandomState는 class명으로\n",
    "\n",
    "랜덤넘버 생성기인 랜덤함수들을 포함하는 클래스라고 할 수 있다.\n",
    "\n",
    "RandomState는 다양한 확률분포측면에 수 많은 랜덤넘버 생성기들을 가지고 있다.\n",
    "\n",
    "ex) numpy.random.uniform(균등분포에서 변수 추출),\n",
    "\n",
    "       numpy.random.nomal(정규분포에서 변수 추출), 등\n",
    "\n",
    "\n",
    "rng = numpy.random.RandomState(123)과 같이 클래스 변수 rng를 선언 할 수 있습니다. \n",
    "이때 123은 일종의 번호로 randomstate 변수를 생성할 때 번호를 지정해서 넣어주지 않으면,\n",
    "여러개의 randomstate 변수를 사용할 때 모두 같은 random한 값을 출력하게됩니다.\n",
    "따라서 선언시에 각 변수 마다 다른 값을 넣음으로서 하나의 코드상에서 다른 랜덤한 값을 출력할 수 있게됩니다.\n",
    "\n"
   ]
  },
  {
   "cell_type": "code",
   "execution_count": 3,
   "metadata": {},
   "outputs": [
    {
     "name": "stdout",
     "output_type": "stream",
     "text": [
      "[[[5 8 9 5]\n",
      "  [0 0 1 7]\n",
      "  [6 9 2 4]]\n",
      "\n",
      " [[5 2 4 2]\n",
      "  [4 7 7 9]\n",
      "  [1 7 0 6]]]\n",
      "3\n",
      "(2, 3, 4)\n",
      "24\n"
     ]
    }
   ],
   "source": [
    "# array의 객체화\n",
    "import numpy as np\n",
    "np.random.seed(1)\n",
    "\n",
    "x = np.random.randint(10, size=(2,3,4))  # 3x4 array를 2개 만들기\n",
    "print(x);\n",
    "print(x.ndim);\n",
    "print(x.shape);\n",
    "print(x.size);"
   ]
  },
  {
   "cell_type": "code",
   "execution_count": 5,
   "metadata": {},
   "outputs": [
    {
     "data": {
      "text/plain": [
       "3"
      ]
     },
     "execution_count": 5,
     "metadata": {},
     "output_type": "execute_result"
    }
   ],
   "source": [
    "# array 접근과 편집(slicing)\n",
    "x = np.array([0,3,5,2,4,6])  # 1차원\n",
    "x[1]"
   ]
  },
  {
   "cell_type": "code",
   "execution_count": 10,
   "metadata": {},
   "outputs": [
    {
     "data": {
      "text/plain": [
       "array([[0],\n",
       "       [3],\n",
       "       [5],\n",
       "       [2],\n",
       "       [4],\n",
       "       [6]])"
      ]
     },
     "execution_count": 10,
     "metadata": {},
     "output_type": "execute_result"
    }
   ],
   "source": [
    "x1=x[:,np.newaxis]\n",
    "x1"
   ]
  },
  {
   "cell_type": "code",
   "execution_count": 11,
   "metadata": {},
   "outputs": [
    {
     "data": {
      "text/plain": [
       "array([[0],\n",
       "       [3],\n",
       "       [5],\n",
       "       [2],\n",
       "       [4],\n",
       "       [6]])"
      ]
     },
     "execution_count": 11,
     "metadata": {},
     "output_type": "execute_result"
    }
   ],
   "source": [
    "x2=x.reshape(6,1)\n",
    "x2"
   ]
  },
  {
   "cell_type": "code",
   "execution_count": 12,
   "metadata": {},
   "outputs": [
    {
     "data": {
      "text/plain": [
       "array([[0],\n",
       "       [3],\n",
       "       [5],\n",
       "       [2],\n",
       "       [4],\n",
       "       [6]])"
      ]
     },
     "execution_count": 12,
     "metadata": {},
     "output_type": "execute_result"
    }
   ],
   "source": [
    "x3=np.reshape(x,(6,1))   # 둘다 결과는 똑같음\n",
    "x3"
   ]
  },
  {
   "cell_type": "markdown",
   "metadata": {},
   "source": [
    "x.reshape(6,1)\n",
    "np.reshape(x,(6,1))"
   ]
  },
  {
   "cell_type": "code",
   "execution_count": 13,
   "metadata": {},
   "outputs": [
    {
     "data": {
      "text/plain": [
       "array([0, 3, 5, 2, 4, 6])"
      ]
     },
     "execution_count": 13,
     "metadata": {},
     "output_type": "execute_result"
    }
   ],
   "source": [
    "x4=x3.flatten()\n",
    "x4"
   ]
  },
  {
   "cell_type": "code",
   "execution_count": 15,
   "metadata": {},
   "outputs": [
    {
     "name": "stdout",
     "output_type": "stream",
     "text": [
      "[[0]\n",
      " [1]\n",
      " [2]\n",
      " [3]\n",
      " [4]]\n"
     ]
    },
    {
     "data": {
      "text/plain": [
       "(5, 1)"
      ]
     },
     "execution_count": 15,
     "metadata": {},
     "output_type": "execute_result"
    }
   ],
   "source": [
    "# 설명 추가\n",
    "x = np.array([0,1,2,3,4]) # 1차원\n",
    "\n",
    "x1 = x[:,np.newaxis]  # x의 열에 차원을 추가(1열 추가)\n",
    "print(x1)\n",
    "x1.shape"
   ]
  },
  {
   "cell_type": "code",
   "execution_count": 16,
   "metadata": {},
   "outputs": [
    {
     "name": "stdout",
     "output_type": "stream",
     "text": [
      "[[0 1 2 3 4]]\n"
     ]
    },
    {
     "data": {
      "text/plain": [
       "(1, 5)"
      ]
     },
     "execution_count": 16,
     "metadata": {},
     "output_type": "execute_result"
    }
   ],
   "source": [
    "x2 = x[np.newaxis,:] # x의 원 객체를 전치, 행에 차원을 추가\n",
    "print(x2)\n",
    "x2.shape"
   ]
  },
  {
   "cell_type": "code",
   "execution_count": 17,
   "metadata": {},
   "outputs": [
    {
     "data": {
      "text/plain": [
       "array([1, 2])"
      ]
     },
     "execution_count": 17,
     "metadata": {},
     "output_type": "execute_result"
    }
   ],
   "source": [
    "x = np.array([0,1,2,3,4])\n",
    "x[1:3] "
   ]
  },
  {
   "cell_type": "code",
   "execution_count": 38,
   "metadata": {},
   "outputs": [
    {
     "data": {
      "text/plain": [
       "array([1, 2])"
      ]
     },
     "execution_count": 38,
     "metadata": {},
     "output_type": "execute_result"
    }
   ],
   "source": [
    "x[1:-2]   # 요소 개수는 총 5개 # x[1:5-2]과 동일"
   ]
  },
  {
   "cell_type": "code",
   "execution_count": 39,
   "metadata": {},
   "outputs": [
    {
     "data": {
      "text/plain": [
       "array([0, 2, 4])"
      ]
     },
     "execution_count": 39,
     "metadata": {},
     "output_type": "execute_result"
    }
   ],
   "source": [
    "x[::2]    # x[start:stop:step]  # 맨 처음부터 끝까지 2개씩 건너뛰며 추출"
   ]
  },
  {
   "cell_type": "code",
   "execution_count": 40,
   "metadata": {},
   "outputs": [
    {
     "data": {
      "text/plain": [
       "array([0, 1])"
      ]
     },
     "execution_count": 40,
     "metadata": {},
     "output_type": "execute_result"
    }
   ],
   "source": [
    "x[:2]  "
   ]
  },
  {
   "cell_type": "code",
   "execution_count": 41,
   "metadata": {},
   "outputs": [
    {
     "data": {
      "text/plain": [
       "array([4, 3, 2, 1, 0])"
      ]
     },
     "execution_count": 41,
     "metadata": {},
     "output_type": "execute_result"
    }
   ],
   "source": [
    "x[::-1]   # 역순으로 "
   ]
  },
  {
   "cell_type": "code",
   "execution_count": 18,
   "metadata": {},
   "outputs": [
    {
     "data": {
      "text/plain": [
       "array([4, 2, 0])"
      ]
     },
     "execution_count": 18,
     "metadata": {},
     "output_type": "execute_result"
    }
   ],
   "source": [
    "x[5::-2]  # 5번째 요소부터 역으로 2칸씩 건너뛰며 추출"
   ]
  },
  {
   "cell_type": "code",
   "execution_count": 22,
   "metadata": {},
   "outputs": [
    {
     "data": {
      "text/plain": [
       "array([[1, 2],\n",
       "       [4, 5]])"
      ]
     },
     "execution_count": 22,
     "metadata": {},
     "output_type": "execute_result"
    }
   ],
   "source": [
    "x = np.array([[1,2,3], [4,5,6], [7,8,9], [3,4,2]])\n",
    "x[:2, :2]  # 0,1번째 array요소 추출 후 각 요소들의 0,1번째 요소 추출 "
   ]
  },
  {
   "cell_type": "code",
   "execution_count": 23,
   "metadata": {},
   "outputs": [
    {
     "data": {
      "text/plain": [
       "array([[4, 5, 6],\n",
       "       [7, 8, 9],\n",
       "       [3, 4, 2]])"
      ]
     },
     "execution_count": 23,
     "metadata": {},
     "output_type": "execute_result"
    }
   ],
   "source": [
    "x[1:4, :3] # 1,2,3 번째 array요소 추출 후 각 요소들의 0,1,2번째 요소 추출"
   ]
  },
  {
   "cell_type": "code",
   "execution_count": 29,
   "metadata": {},
   "outputs": [
    {
     "data": {
      "text/plain": [
       "array([[99,  2,  3],\n",
       "       [ 4,  5,  6],\n",
       "       [ 7,  8,  9],\n",
       "       [ 3,  4,  2]])"
      ]
     },
     "execution_count": 29,
     "metadata": {},
     "output_type": "execute_result"
    }
   ],
   "source": [
    "x"
   ]
  },
  {
   "cell_type": "code",
   "execution_count": 24,
   "metadata": {},
   "outputs": [
    {
     "data": {
      "text/plain": [
       "array([1, 4, 7, 3])"
      ]
     },
     "execution_count": 24,
     "metadata": {},
     "output_type": "execute_result"
    }
   ],
   "source": [
    "x[:, 0]   # 첫째 열"
   ]
  },
  {
   "cell_type": "code",
   "execution_count": 48,
   "metadata": {},
   "outputs": [
    {
     "data": {
      "text/plain": [
       "array([1, 2, 3])"
      ]
     },
     "execution_count": 48,
     "metadata": {},
     "output_type": "execute_result"
    }
   ],
   "source": [
    "x[0, :]   # 첫째 행"
   ]
  },
  {
   "cell_type": "code",
   "execution_count": 44,
   "metadata": {},
   "outputs": [
    {
     "data": {
      "text/plain": [
       "array([1, 2, 3])"
      ]
     },
     "execution_count": 44,
     "metadata": {},
     "output_type": "execute_result"
    }
   ],
   "source": [
    "x[0]"
   ]
  },
  {
   "cell_type": "code",
   "execution_count": 49,
   "metadata": {},
   "outputs": [
    {
     "data": {
      "text/plain": [
       "6"
      ]
     },
     "execution_count": 49,
     "metadata": {},
     "output_type": "execute_result"
    }
   ],
   "source": [
    "x[1, 2]   # list에서는 x[1][2]로 같은 동작을 수행하였음"
   ]
  },
  {
   "cell_type": "code",
   "execution_count": 27,
   "metadata": {},
   "outputs": [
    {
     "data": {
      "text/plain": [
       "array([[99,  2,  3],\n",
       "       [ 4,  5,  6],\n",
       "       [ 7,  8,  9],\n",
       "       [ 3,  4,  2]])"
      ]
     },
     "execution_count": 27,
     "metadata": {},
     "output_type": "execute_result"
    }
   ],
   "source": [
    "x[0, 0] = 99\n",
    "x"
   ]
  },
  {
   "cell_type": "code",
   "execution_count": 30,
   "metadata": {},
   "outputs": [
    {
     "data": {
      "text/plain": [
       "array([[99,  2],\n",
       "       [ 4,  5]])"
      ]
     },
     "execution_count": 30,
     "metadata": {},
     "output_type": "execute_result"
    }
   ],
   "source": [
    "x1 = x[:2, :2]\n",
    "x1"
   ]
  },
  {
   "cell_type": "code",
   "execution_count": 31,
   "metadata": {},
   "outputs": [
    {
     "data": {
      "text/plain": [
       "array([[99, 99],\n",
       "       [ 4,  5]])"
      ]
     },
     "execution_count": 31,
     "metadata": {},
     "output_type": "execute_result"
    }
   ],
   "source": [
    "x1[0, 1] = 99\n",
    "x1"
   ]
  },
  {
   "cell_type": "code",
   "execution_count": 32,
   "metadata": {},
   "outputs": [
    {
     "name": "stdout",
     "output_type": "stream",
     "text": [
      "[[99 99  3]\n",
      " [ 4  5  6]\n",
      " [ 7  8  9]\n",
      " [ 3  4  2]]\n"
     ]
    }
   ],
   "source": [
    "print(x)  # subarray인 x1의 element를 수정하면 x에도 반영이 됨. ∵뷰 형태로 x와 동일한 객체를 참조"
   ]
  },
  {
   "cell_type": "code",
   "execution_count": 33,
   "metadata": {},
   "outputs": [
    {
     "name": "stdout",
     "output_type": "stream",
     "text": [
      "2467181429824\n",
      "2467181458176\n"
     ]
    }
   ],
   "source": [
    "print(id(x));print(id(x1))    # 주소는 x와 다름"
   ]
  },
  {
   "cell_type": "code",
   "execution_count": 34,
   "metadata": {},
   "outputs": [
    {
     "name": "stdout",
     "output_type": "stream",
     "text": [
      "[[99 99  3]\n",
      " [ 4  5  6]\n",
      " [ 7  8  9]\n",
      " [ 3  4  2]]\n"
     ]
    }
   ],
   "source": [
    "x1_copy = x[:2, :2].copy()\n",
    "x1_copy[0, 0] = 1000  # x에 영향을 주지 않음\n",
    "print(x)"
   ]
  },
  {
   "cell_type": "code",
   "execution_count": null,
   "metadata": {},
   "outputs": [],
   "source": [
    "### 6.1 numpy의 차원 변경, 분할, 덧붙이기 ###"
   ]
  },
  {
   "cell_type": "code",
   "execution_count": 35,
   "metadata": {},
   "outputs": [
    {
     "name": "stdout",
     "output_type": "stream",
     "text": [
      "[1 2 3]\n",
      "[[1 2 3]]\n",
      "[[1]\n",
      " [2]\n",
      " [3]]\n"
     ]
    }
   ],
   "source": [
    "# 차원 변경\n",
    "import numpy as np\n",
    "x = np.array([1, 2, 3])\n",
    "print(x)\n",
    "x.reshape((1, 3))  # 2차원 행벡터화([]가 한 겹 더 생겼음)\n",
    "print(x[np.newaxis, :]) \n",
    "x.reshape((3, 1))  # 2차원 열벡터화\n",
    "print(x[:, np.newaxis]) "
   ]
  },
  {
   "cell_type": "code",
   "execution_count": null,
   "metadata": {},
   "outputs": [],
   "source": [
    "# 추가\n",
    "# 함수의 파라미터에 -1이 들어가면 특별한 의미를 갖는데, 다른 나머지 차원 크기를 맞추고 남은 크기를 해당 차원에 할당해 준다는 의미입니다"
   ]
  },
  {
   "cell_type": "code",
   "execution_count": 36,
   "metadata": {},
   "outputs": [
    {
     "name": "stdout",
     "output_type": "stream",
     "text": [
      "[[[9 9 7 6]\n",
      "  [9 1 0 1]\n",
      "  [8 8 3 9]]\n",
      "\n",
      " [[8 7 3 6]\n",
      "  [5 1 9 3]\n",
      "  [4 8 1 4]]\n",
      "\n",
      " [[0 3 9 2]\n",
      "  [0 4 9 2]\n",
      "  [7 7 9 8]]]\n",
      "---------------------------\n",
      "[[9 9 7 6 9 1 0 1 8 8 3 9]\n",
      " [8 7 3 6 5 1 9 3 4 8 1 4]\n",
      " [0 3 9 2 0 4 9 2 7 7 9 8]]\n"
     ]
    }
   ],
   "source": [
    "x = np.random.randint(10, size=(3,3,4)) # 3x4 행렬을 총 3개 만들기\n",
    "print(x)\n",
    "print('---------------------------')\n",
    "x1 = x.reshape((3, 12))  # 3 by 4 행렬의 각 행을 옆으로 붙임\n",
    "print(x1)"
   ]
  },
  {
   "cell_type": "code",
   "execution_count": 37,
   "metadata": {},
   "outputs": [
    {
     "name": "stdout",
     "output_type": "stream",
     "text": [
      "(3, 12)\n"
     ]
    },
    {
     "data": {
      "text/plain": [
       "3"
      ]
     },
     "execution_count": 37,
     "metadata": {},
     "output_type": "execute_result"
    }
   ],
   "source": [
    "x2=x.reshape((-1,12))\n",
    "print(np.shape(x2))\n",
    "x.shape[1]  # x.shape 가 (3,3,4) 이므로"
   ]
  },
  {
   "cell_type": "code",
   "execution_count": 38,
   "metadata": {},
   "outputs": [
    {
     "name": "stdout",
     "output_type": "stream",
     "text": [
      "[1 2] [3 4 5 6] [7 8]\n",
      "[100   2]\n",
      "[1, 2, 3, 4, 5, 6, 7, 8]\n"
     ]
    }
   ],
   "source": [
    "# 분할\n",
    "x = [1, 2, 3, 4, 5, 6, 7, 8]\n",
    "x1, x2, x3 = np.split(x, [2,6]) # 2번째, 6번째에서 split\n",
    "print(x1, x2, x3)\n",
    "x1[0] = 100  # 분할된 변수의 변경은 x에 반영되지 않음\n",
    "print(x1)\n",
    "print(x)"
   ]
  },
  {
   "cell_type": "code",
   "execution_count": 53,
   "metadata": {},
   "outputs": [
    {
     "name": "stdout",
     "output_type": "stream",
     "text": [
      "[[0.80074457 0.96826158 0.31342418 0.69232262]\n",
      " [0.87638915 0.89460666 0.08504421 0.03905478]\n",
      " [0.16983042 0.8781425  0.09834683 0.42110763]\n",
      " [0.95788953 0.53316528 0.69187711 0.31551563]]\n"
     ]
    }
   ],
   "source": [
    "x = np.random.random((4, 4));print(x)"
   ]
  },
  {
   "cell_type": "code",
   "execution_count": 54,
   "metadata": {},
   "outputs": [
    {
     "name": "stdout",
     "output_type": "stream",
     "text": [
      "[[0.80074457 0.96826158 0.31342418 0.69232262]\n",
      " [0.87638915 0.89460666 0.08504421 0.03905478]]\n",
      "--------------------------------------------------\n",
      "[[0.16983042 0.8781425  0.09834683 0.42110763]\n",
      " [0.95788953 0.53316528 0.69187711 0.31551563]]\n"
     ]
    }
   ],
   "source": [
    "x1, x2 = np.vsplit(x, [2])  # 세로를 분할\n",
    "print(x1)\n",
    "print('--------------------------------------------------')\n",
    "print(x2)"
   ]
  },
  {
   "cell_type": "code",
   "execution_count": 55,
   "metadata": {},
   "outputs": [
    {
     "name": "stdout",
     "output_type": "stream",
     "text": [
      "[[0.80074457 0.96826158]\n",
      " [0.87638915 0.89460666]\n",
      " [0.16983042 0.8781425 ]\n",
      " [0.95788953 0.53316528]]\n",
      "---------------------------\n",
      "[[0.31342418 0.69232262]\n",
      " [0.08504421 0.03905478]\n",
      " [0.09834683 0.42110763]\n",
      " [0.69187711 0.31551563]]\n"
     ]
    }
   ],
   "source": [
    "y1, y2 = np.hsplit(x, [2])  # 가로를 분할\n",
    "print(y1)\n",
    "print('---------------------------')\n",
    "print(y2)"
   ]
  },
  {
   "cell_type": "code",
   "execution_count": 7,
   "metadata": {},
   "outputs": [
    {
     "data": {
      "text/plain": [
       "array([1, 2, 2, 3, 4, 5])"
      ]
     },
     "execution_count": 7,
     "metadata": {},
     "output_type": "execute_result"
    }
   ],
   "source": [
    "# 덧붙이기\n",
    "x = np.array([1, 2])\n",
    "y = np.array([2, 3])\n",
    "z = np.array([4, 5])\n",
    "np.concatenate([x, y, z])"
   ]
  },
  {
   "cell_type": "code",
   "execution_count": 40,
   "metadata": {},
   "outputs": [
    {
     "name": "stdout",
     "output_type": "stream",
     "text": [
      "[[1 2 3]\n",
      " [4 5 6]\n",
      " [2 4 6]\n",
      " [8 7 6]]\n",
      "---------------------------\n",
      "[[1 2 3 2 4 6]\n",
      " [4 5 6 8 7 6]]\n"
     ]
    }
   ],
   "source": [
    "xx = np.array([[1,2,3], [4,5,6]])\n",
    "yy = np.array([[2,4,6], [8,7,6]])\n",
    "print(np.concatenate([xx, yy]))          # 아래로 붙임\n",
    "print('---------------------------')\n",
    "print(np.concatenate([xx, yy], axis=1))  # 옆으로 붙임"
   ]
  },
  {
   "cell_type": "code",
   "execution_count": 41,
   "metadata": {},
   "outputs": [
    {
     "data": {
      "text/plain": [
       "array([[55, 66, 77],\n",
       "       [ 1,  2,  3],\n",
       "       [ 4,  5,  6]])"
      ]
     },
     "execution_count": 41,
     "metadata": {},
     "output_type": "execute_result"
    }
   ],
   "source": [
    "zz = np.array([55, 66, 77])\n",
    "np.vstack([zz, xx])  # 세로로 쌓기. np.concatenate([zz.reshape((1,3)), xx])과 결과 동일"
   ]
  },
  {
   "cell_type": "code",
   "execution_count": 42,
   "metadata": {},
   "outputs": [
    {
     "data": {
      "text/plain": [
       "array([[100,   1,   2,   3],\n",
       "       [200,   4,   5,   6]])"
      ]
     },
     "execution_count": 42,
     "metadata": {},
     "output_type": "execute_result"
    }
   ],
   "source": [
    "ww = np.array([[100], [200]])  # 열벡터\n",
    "np.hstack([ww, xx])  # 가로로 쌓기"
   ]
  },
  {
   "cell_type": "code",
   "execution_count": null,
   "metadata": {},
   "outputs": [],
   "source": [
    "### 6.2 numpy 연산 ###"
   ]
  },
  {
   "cell_type": "code",
   "execution_count": 10,
   "metadata": {},
   "outputs": [
    {
     "name": "stdout",
     "output_type": "stream",
     "text": [
      "[4 5 6 7]\n",
      "[-2 -1  0  1]\n",
      "[ 3  6  9 12]\n",
      "[0.33333333 0.66666667 1.         1.33333333]\n",
      "[ 1  8 27 64]\n",
      "[-2.25 -4.   -6.25 -9.  ]\n"
     ]
    }
   ],
   "source": [
    "x = np.array([1, 2, 3, 4])\n",
    "print(x+3)\n",
    "print(x-3)\n",
    "print(x*3)\n",
    "print(x**3) # x의 3승\n",
    "print(-(0.5*x+1)**2)"
   ]
  },
  {
   "cell_type": "code",
   "execution_count": 11,
   "metadata": {},
   "outputs": [
    {
     "name": "stdout",
     "output_type": "stream",
     "text": [
      "[ 2.71828183  7.3890561  20.08553692 54.59815003]\n",
      "[ 3  9 27 81]\n",
      "[0.         0.69314718 1.09861229 1.38629436]\n",
      "[0.        1.        1.5849625 2.       ]\n",
      "[0.         0.30103    0.47712125 0.60205999]\n"
     ]
    }
   ],
   "source": [
    "print(np.exp(x))\n",
    "print(np.power(3, x)) # 3의 x승\n",
    "print(np.log(x))\n",
    "print(np.log2(x))\n",
    "print(np.log10(x))"
   ]
  },
  {
   "cell_type": "code",
   "execution_count": 12,
   "metadata": {},
   "outputs": [
    {
     "name": "stdout",
     "output_type": "stream",
     "text": [
      "[[1. 1. 1.]\n",
      " [1. 1. 1.]\n",
      " [1. 1. 1.]]\n"
     ]
    }
   ],
   "source": [
    "M = np.ones((3, 3))\n",
    "print(M)"
   ]
  },
  {
   "cell_type": "code",
   "execution_count": 13,
   "metadata": {},
   "outputs": [
    {
     "name": "stdout",
     "output_type": "stream",
     "text": [
      "[[2. 2. 2.]\n",
      " [2. 2. 2.]\n",
      " [2. 2. 2.]]\n"
     ]
    }
   ],
   "source": [
    "M1 = M + 1\n",
    "print(M1)"
   ]
  },
  {
   "cell_type": "code",
   "execution_count": 14,
   "metadata": {},
   "outputs": [
    {
     "name": "stdout",
     "output_type": "stream",
     "text": [
      "[[2. 3. 4.]\n",
      " [2. 3. 4.]\n",
      " [2. 3. 4.]]\n"
     ]
    }
   ],
   "source": [
    "a = np.array([1, 2, 3])\n",
    "M2 = M + a  # row by row로 연산 수행\n",
    "print(M2)"
   ]
  },
  {
   "cell_type": "code",
   "execution_count": 43,
   "metadata": {},
   "outputs": [
    {
     "name": "stdout",
     "output_type": "stream",
     "text": [
      "[0 1 2]\n",
      "[[0]\n",
      " [1]\n",
      " [2]]\n",
      "---------------------------\n",
      "[[0 1 2]\n",
      " [1 2 3]\n",
      " [2 3 4]]\n"
     ]
    }
   ],
   "source": [
    "a = np.arange(3)\n",
    "b = np.arange(3)[:, np.newaxis] \n",
    "print(a);print(b)\n",
    "print('---------------------------')\n",
    "print(a+b)"
   ]
  },
  {
   "cell_type": "code",
   "execution_count": 16,
   "metadata": {},
   "outputs": [
    {
     "name": "stdout",
     "output_type": "stream",
     "text": [
      "[[2 0 0 6]\n",
      " [2 4 9 3]\n",
      " [4 2 6 5]]\n"
     ]
    }
   ],
   "source": [
    "# 기초통계량 계산\n",
    "np.random.seed(13)\n",
    "x = np.random.randint(10, size=(3,4))\n",
    "print(x)"
   ]
  },
  {
   "cell_type": "code",
   "execution_count": 17,
   "metadata": {},
   "outputs": [
    {
     "name": "stdout",
     "output_type": "stream",
     "text": [
      "43\n",
      "[0 2 2]\n",
      "[2.66666667 2.         5.         4.66666667]\n",
      "[0.94280904 1.63299316 3.74165739 1.24721913]\n"
     ]
    }
   ],
   "source": [
    "print(np.sum(x))           # 원소의 총 합계\n",
    "print(np.min(x, axis=1))   # 각 행의 최소값\n",
    "print(np.mean(x, axis=0))  # 각 열의 평균\n",
    "print(np.std(x, axis=0))   # 각 열의 표준편차"
   ]
  },
  {
   "cell_type": "code",
   "execution_count": 18,
   "metadata": {},
   "outputs": [
    {
     "name": "stdout",
     "output_type": "stream",
     "text": [
      "[ 4.44089210e-16  0.00000000e+00  1.11022302e-16 -7.77156117e-16]\n"
     ]
    }
   ],
   "source": [
    "x_std = (x - np.mean(x, axis=0))/np.std(x, axis=0)\n",
    "print(np.sum(x_std, axis=0))"
   ]
  },
  {
   "cell_type": "code",
   "execution_count": 45,
   "metadata": {},
   "outputs": [
    {
     "name": "stdout",
     "output_type": "stream",
     "text": [
      "[[ 1  2  3 10]\n",
      " [ 5  6  7  8]]\n"
     ]
    }
   ],
   "source": [
    "### 6.2 논리 인덱싱(Boolean indexing)과 순서 정렬(Sorting) ###\n",
    "import numpy as np\n",
    "x = np.array([[1,2,3,10], [5,6,7,8]]); print(x)"
   ]
  },
  {
   "cell_type": "code",
   "execution_count": 60,
   "metadata": {},
   "outputs": [
    {
     "name": "stdout",
     "output_type": "stream",
     "text": [
      "[[False False False  True]\n",
      " [ True  True  True  True]]\n",
      "5\n",
      "[1 4]\n"
     ]
    }
   ],
   "source": [
    "print(x >= 5) \n",
    "print(np.sum(x>=5)) \n",
    "# x가 5보다 큰것의 개수를 sum \n",
    "# x >= 5 자체가 논리식이므로 true나 false를 반환. true면 1, false는 0\n",
    "print(np.sum(x>=5, axis=1))  # 각 행별로 5보다 큰 것의 개수"
   ]
  },
  {
   "cell_type": "code",
   "execution_count": 20,
   "metadata": {},
   "outputs": [
    {
     "name": "stdout",
     "output_type": "stream",
     "text": [
      "False\n",
      "[ True  True False  True]\n",
      "False\n"
     ]
    }
   ],
   "source": [
    "print(np.any(x>100))   # 어떤것이라도 100보다 큰게 있니? 즉 100보다 큰 숫자가 있는지 없는지 판단할때\n",
    "print(np.all(x<7, axis=0))   # 각 열별로 연산\n",
    "print(np.all(x==100)) # 모두 100이냐?"
   ]
  },
  {
   "cell_type": "code",
   "execution_count": 47,
   "metadata": {},
   "outputs": [
    {
     "name": "stdout",
     "output_type": "stream",
     "text": [
      "[[ 5  6  7  8]\n",
      " [13 14 15 16]]\n",
      "---------------------------\n",
      "[[ 2  4]\n",
      " [ 6  8]\n",
      " [10 12]\n",
      " [14 16]]\n"
     ]
    }
   ],
   "source": [
    "# 논리 인덱싱\n",
    "x = np.array([[1,2,3,4], [5,6,7,8], [9,10,11,12], [13,14,15,16]])\n",
    "y = np.array([1,0,1,0])\n",
    "print(x[y==0, :])  # y=0인 행(1,3행) 과 모든 열 \n",
    "print('---------------------------')\n",
    "print(x[:, y==0])  # 모든 행과 y=0인 열"
   ]
  },
  {
   "cell_type": "code",
   "execution_count": 48,
   "metadata": {},
   "outputs": [
    {
     "name": "stdout",
     "output_type": "stream",
     "text": [
      "[33 44 99]\n",
      "---------------------------\n",
      "[[33 22 44]\n",
      " [66 33 88]]\n"
     ]
    }
   ],
   "source": [
    "# array를 활용한 인덱싱\n",
    "x = np.array([11, 22, 33, 44, 55, 66, 77, 88, 99]) \n",
    "ind1 = np.array([2, 3, 8])\n",
    "ind2 = np.array([[2,1,3], [5,2,7]])\n",
    "\n",
    "x1 = x[ind1] # [2,3,8]번째 행만 추출\n",
    "x2 = x[ind2] # 첫번째 행은 [2,1,3]번째 꺼 / 두번째 행은 [5,2,7]번째 꺼 \n",
    "\n",
    "print(x1)\n",
    "print('---------------------------')\n",
    "print(x2)"
   ]
  },
  {
   "cell_type": "code",
   "execution_count": 50,
   "metadata": {},
   "outputs": [
    {
     "name": "stdout",
     "output_type": "stream",
     "text": [
      "[[ 0  1  2  3]\n",
      " [ 4  5  6  7]\n",
      " [ 8  9 10 11]]\n"
     ]
    }
   ],
   "source": [
    "# 인덱싱에서의 브로드캐스팅\n",
    "x = np.arange(12).reshape((3,4)) # np.arange(12)는 0~11까지의 벡터를 만든것.\n",
    "print(x)"
   ]
  },
  {
   "cell_type": "code",
   "execution_count": 51,
   "metadata": {},
   "outputs": [
    {
     "name": "stdout",
     "output_type": "stream",
     "text": [
      "[[1]\n",
      " [2]\n",
      " [2]]\n",
      "[2 0 1]\n",
      "[6 8 9]\n",
      "---------------------------\n",
      "[[ 6  4  5]\n",
      " [10  8  9]\n",
      " [10  8  9]]\n"
     ]
    }
   ],
   "source": [
    "y1 = np.array([1, 2, 2])\n",
    "y2 = np.array([2, 0, 1])\n",
    "print(y1[:,np.newaxis]) # 열벡터로 만들겠다는 뜻\n",
    "print(y2)\n",
    "print(x[y1, y2]) # [1,2] [2,0] [2,1] 번째 element\n",
    "print('---------------------------')\n",
    "print(x[y1[:,np.newaxis], y2]) # [1,2,2]번째 행을 먼저 추출하고, 그 행들의 [2,0,1]번째 element추출"
   ]
  },
  {
   "cell_type": "code",
   "execution_count": 26,
   "metadata": {},
   "outputs": [
    {
     "name": "stdout",
     "output_type": "stream",
     "text": [
      "[1 2 3 4 5]\n"
     ]
    }
   ],
   "source": [
    "# 순서 정렬\n",
    "x = np.array([2, 4, 3, 1, 5])\n",
    "print(np.sort(x))"
   ]
  },
  {
   "cell_type": "code",
   "execution_count": 27,
   "metadata": {},
   "outputs": [
    {
     "name": "stdout",
     "output_type": "stream",
     "text": [
      "[3 0 2 1 4]\n"
     ]
    }
   ],
   "source": [
    "ind = np.argsort(x) # sort한 것의 index\n",
    "print(ind) "
   ]
  },
  {
   "cell_type": "code",
   "execution_count": null,
   "metadata": {},
   "outputs": [],
   "source": []
  },
  {
   "cell_type": "code",
   "execution_count": null,
   "metadata": {},
   "outputs": [],
   "source": []
  },
  {
   "cell_type": "code",
   "execution_count": null,
   "metadata": {},
   "outputs": [],
   "source": []
  },
  {
   "cell_type": "code",
   "execution_count": null,
   "metadata": {},
   "outputs": [],
   "source": []
  }
 ],
 "metadata": {
  "kernelspec": {
   "display_name": "Python 3",
   "language": "python",
   "name": "python3"
  },
  "language_info": {
   "codemirror_mode": {
    "name": "ipython",
    "version": 3
   },
   "file_extension": ".py",
   "mimetype": "text/x-python",
   "name": "python",
   "nbconvert_exporter": "python",
   "pygments_lexer": "ipython3",
   "version": "3.7.3"
  }
 },
 "nbformat": 4,
 "nbformat_minor": 2
}
